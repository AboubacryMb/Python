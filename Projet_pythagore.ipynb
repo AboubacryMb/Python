{
 "cells": [
  {
   "cell_type": "markdown",
   "id": "4127bc55",
   "metadata": {},
   "source": [
    "# TP_python"
   ]
  },
  {
   "cell_type": "code",
   "execution_count": null,
   "id": "34ba8a3f",
   "metadata": {},
   "outputs": [],
   "source": [
    "##Use of class for handling Exception!\n",
    "class Complexit(Exception):\n",
    "  pass\n",
    "\n",
    "class too_longit(Exception):\n",
    "  pass\n",
    "\n",
    "class too_smallit(Exception):\n",
    "  pass\n",
    "\n",
    "class Negateit(Exception):\n",
    "  pass"
   ]
  },
  {
   "cell_type": "code",
   "execution_count": null,
   "id": "66a7d685",
   "metadata": {},
   "outputs": [],
   "source": [
    "def convert_it(input):\n",
    "  # verifie si c'est un string\n",
    "  if \"j\" in input:\n",
    "    raise Complexit()\n",
    "\n",
    "  # verifie si cest negatif\n",
    "  if input[0] == \"-\":\n",
    "    raise Negateit()\n",
    "\n",
    "  # verifie si c'est trop long\n",
    "  if len(input) > 16:\n",
    "    raise too_longit()\n",
    "\n",
    "  # verifie si cest trop petit:\n",
    "  if abs(float(input)) < 0.05:\n",
    "    raise too_smallit()\n",
    "\n",
    "  # Convertir le input en int\n",
    "  return int(input)"
   ]
  },
  {
   "cell_type": "code",
   "execution_count": null,
   "id": "ae966144",
   "metadata": {},
   "outputs": [],
   "source": [
    "def valeur_saisi(data):\n",
    "  stop = False\n",
    "  value = \"\"\n",
    "    \n",
    "  while stop == False:\n",
    "    value = input(data)\n",
    "    try:\n",
    "      value = convert_it(value)\n",
    "      \n",
    "      stop = True\n",
    "\n",
    "    except Exception:\n",
    "      print(\"Entrez un nombre poisitif svp\")\n",
    "      value = int(abs(value)\n",
    "     \n",
    "      stop = True\n",
    "\n",
    "    except Complexit:\n",
    "      print(\"on considere la partie entiere\")\n",
    "      complexValue_split = value.split(\"j\") \n",
    "      value = int(complexValue_split[1])\n",
    "      stop = True\n",
    "\n",
    "    except too_longit:\n",
    "      print(\"le nb saisi estt trop grd, vauillez saisir un autre svp!\")\n",
    "\n",
    "    except too_smallit:\n",
    "      print(\"Le nb saisi est trop petit, veuillez saisir un autre svp!\")\n",
    "\n",
    "  return value  "
   ]
  },
  {
   "cell_type": "code",
   "execution_count": null,
   "id": "9463fdbc",
   "metadata": {},
   "outputs": [],
   "source": [
    "def pythagore():\n",
    "  a = valeur_saisi(\"Donnez une valeur pour a: \")\n",
    "  b = valeur_saisi(\"Donnez une valeur pour b: \")\n",
    "  c = (a**2 + b**2)**(1/2)\n",
    "  print(\" les valeurs de A={} et B={} sont {}\".format(a,b,c))\n",
    "    \n",
    "\n",
    "pythagore()"
   ]
  },
  {
   "cell_type": "code",
   "execution_count": null,
   "id": "1e90bd4f",
   "metadata": {},
   "outputs": [],
   "source": []
  }
 ],
 "metadata": {
  "kernelspec": {
   "display_name": "Python 3 (ipykernel)",
   "language": "python",
   "name": "python3"
  },
  "language_info": {
   "codemirror_mode": {
    "name": "ipython",
    "version": 3
   },
   "file_extension": ".py",
   "mimetype": "text/x-python",
   "name": "python",
   "nbconvert_exporter": "python",
   "pygments_lexer": "ipython3",
   "version": "3.8.10"
  }
 },
 "nbformat": 4,
 "nbformat_minor": 5
}
